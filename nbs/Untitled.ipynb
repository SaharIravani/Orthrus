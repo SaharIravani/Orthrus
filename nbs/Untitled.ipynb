{
 "cells": [
  {
   "cell_type": "code",
   "execution_count": 1,
   "id": "30eb3f6c-6864-4bb0-b41e-1a292dbbeffd",
   "metadata": {},
   "outputs": [],
   "source": [
    "run_name=\"orthrus_large_6_track\""
   ]
  },
  {
   "cell_type": "code",
   "execution_count": 2,
   "id": "301d394c-cfbd-4555-80a5-c0ca71ebc1d8",
   "metadata": {},
   "outputs": [],
   "source": [
    "checkpoint=\"epoch=22-step=20000.ckpt\""
   ]
  },
  {
   "cell_type": "code",
   "execution_count": 3,
   "id": "d1e535f2-feff-4a39-9ff0-401c7c642710",
   "metadata": {},
   "outputs": [],
   "source": [
    "model_repository=\"./models\""
   ]
  },
  {
   "cell_type": "code",
   "execution_count": 5,
   "id": "37c5ef2d-89be-4cb9-8854-a3159c108f7f",
   "metadata": {},
   "outputs": [],
   "source": [
    "import math\n",
    "from functools import partial\n",
    "import os\n",
    "import json\n",
    "import torch\n",
    "import torch.nn as nn\n"
   ]
  },
  {
   "cell_type": "code",
   "execution_count": null,
   "id": "00085482-ccf4-4579-8528-936d0f98290e",
   "metadata": {},
   "outputs": [],
   "source": [
    "from mamba_ssm.modules.mamba_simple import Mamba, Block\n"
   ]
  },
  {
   "cell_type": "code",
   "execution_count": null,
   "id": "3381519d-67e9-4da5-a372-f12db8aa4667",
   "metadata": {},
   "outputs": [],
   "source": [
    "model = load_model(f\"{model_repository}{run_name}\", checkpoint_name=checkpoint)"
   ]
  },
  {
   "cell_type": "code",
   "execution_count": null,
   "id": "6b8a0f76-a296-4159-9d06-c1df86803b2a",
   "metadata": {},
   "outputs": [],
   "source": []
  },
  {
   "cell_type": "code",
   "execution_count": null,
   "id": "966d21ba-e133-48d2-83f2-8d5a20cf7e06",
   "metadata": {},
   "outputs": [],
   "source": []
  }
 ],
 "metadata": {
  "kernelspec": {
   "display_name": "Python 3 (ipykernel)",
   "language": "python",
   "name": "python3"
  },
  "language_info": {
   "codemirror_mode": {
    "name": "ipython",
    "version": 3
   },
   "file_extension": ".py",
   "mimetype": "text/x-python",
   "name": "python",
   "nbconvert_exporter": "python",
   "pygments_lexer": "ipython3",
   "version": "3.10.16"
  }
 },
 "nbformat": 4,
 "nbformat_minor": 5
}
